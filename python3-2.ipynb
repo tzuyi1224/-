{
 "cells": [
  {
   "cell_type": "code",
   "execution_count": 2,
   "metadata": {},
   "outputs": [
    {
     "name": "stdout",
     "output_type": "stream",
     "text": [
      "天氣是晴天，去⼾外跑步\n"
     ]
    }
   ],
   "source": [
    "import random\n",
    "weathers = [\"晴天\", \"下雨\"]\n",
    "weather = weathers[random.randint(0, 1)]\n",
    "if weather == \"晴天\":\n",
    " print (\"天氣是%s，去⼾外跑步\" % weather)\n",
    "else:\n",
    " print (\"天氣是%s，去健⾝房\" % weather)"
   ]
  },
  {
   "cell_type": "code",
   "execution_count": 4,
   "metadata": {},
   "outputs": [
    {
     "name": "stdout",
     "output_type": "stream",
     "text": [
      "天氣是晴天，去⼾外跑步\n"
     ]
    }
   ],
   "source": [
    "import random\n",
    "weathers = [\"晴天\", \"下雨\", \"暴風雨\"]\n",
    "weather = weathers[random.randint(0, 2)]\n",
    "if weather == \"晴天\":\n",
    " print (\"天氣是%s，去⼾外跑步\" % weather)\n",
    "elif weather == \"下雨\":\n",
    " print (\"天氣是%s，去健⾝房\" % weather)\n",
    "else:\n",
    " print (\"天氣是%s，睡回籠覺\" % weather)"
   ]
  },
  {
   "cell_type": "code",
   "execution_count": 53,
   "metadata": {},
   "outputs": [
    {
     "name": "stdout",
     "output_type": "stream",
     "text": [
      "Jennifer Aniston\n",
      "Courteney Cox\n",
      "Lisa Kudrow\n",
      "Matt LeBlanc\n",
      "Matthew Perry\n",
      "David Schwimmer\n"
     ]
    }
   ],
   "source": [
    "starrings = [\"Jennifer Aniston\", \"Courteney Cox\", \"Lisa Kudrow\", \"Matt LeBlanc\", \"Matthew Perry\", \"David Schwimmer\"]\n",
    "print (starrings[0])\n",
    "print (starrings[1])\n",
    "print (starrings[2])\n",
    "print (starrings[3])\n",
    "print (starrings[4])\n",
    "print (starrings[5])"
   ]
  },
  {
   "cell_type": "code",
   "execution_count": 12,
   "metadata": {},
   "outputs": [
    {
     "name": "stdout",
     "output_type": "stream",
     "text": [
      "Jennifer Aniston\n",
      "Courteney Cox\n",
      "Lisa Kudrow\n",
      "Matt LeBlanc\n",
      "Matthew Perry\n",
      "David Schwimmer\n"
     ]
    }
   ],
   "source": [
    "starrings = [\"Jennifer Aniston\", \"Courteney Cox\", \"Lisa Kudrow\", \"Matt LeBlanc\", \"Matthew Perry\", \"David Schwimmer\"]\n",
    "i = 0\n",
    "while i < 6:\n",
    " print (starrings[i])\n",
    " i += 1"
   ]
  },
  {
   "cell_type": "code",
   "execution_count": 13,
   "metadata": {},
   "outputs": [
    {
     "name": "stdout",
     "output_type": "stream",
     "text": [
      "Jennifer Aniston\n",
      "Courteney Cox\n",
      "Lisa Kudrow\n",
      "Matt LeBlanc\n",
      "Matthew Perry\n",
      "David Schwimmer\n"
     ]
    }
   ],
   "source": [
    "starrings = [\"Jennifer Aniston\", \"Courteney Cox\", \"Lisa Kudrow\", \"Matt LeBlanc\", \"Matthew Perry\", \"David Schwimmer\"]\n",
    "for i in range(len(starrings)):\n",
    " print (starrings[i])"
   ]
  },
  {
   "cell_type": "code",
   "execution_count": 15,
   "metadata": {},
   "outputs": [
    {
     "name": "stdout",
     "output_type": "stream",
     "text": [
      "0: Jennifer Aniston\n",
      "1: Courteney Cox\n",
      "2: Lisa Kudrow\n",
      "3: Matt LeBlanc\n",
      "4: Matthew Perry\n",
      "5: David Schwimmer\n"
     ]
    }
   ],
   "source": [
    "starrings = [\"Jennifer Aniston\", \"Courteney Cox\", \"Lisa Kudrow\", \"Matt LeBlanc\", \"Matthew Perry\", \"David Schwimmer\"]\n",
    "for (index, starring) in enumerate(starrings):\n",
    " print (\"%i: %s\" % (index, starring))"
   ]
  },
  {
   "cell_type": "code",
   "execution_count": 16,
   "metadata": {},
   "outputs": [
    {
     "name": "stdout",
     "output_type": "stream",
     "text": [
      "Rachel Green 由 Jennifer Aniston 主演\n",
      "Monica Geller 由 Courteney Cox 主演\n",
      "Phoebe Buffay 由 Lisa Kudrow 主演\n",
      "Joey Tribbiani 由 Matt LeBlanc 主演\n",
      "Chandler Bing 由 Matthew Perry 主演\n",
      "Ross Geller 由 David Schwimmer 主演\n"
     ]
    }
   ],
   "source": [
    "characters = [\"Rachel Green\", \"Monica Geller\", \"Phoebe Buffay\", \"Joey Tribbiani\", \"Chandler Bing\", \"Ross Geller\"]\n",
    "starrings = [\"Jennifer Aniston\", \"Courteney Cox\", \"Lisa Kudrow\", \"Matt LeBlanc\", \"Matthew Perry\", \"David Schwimmer\"]\n",
    "for (character, star) in zip(characters, starrings):\n",
    " print (character + \" 由 \" + star + \" 主演\")\n"
   ]
  },
  {
   "cell_type": "code",
   "execution_count": 17,
   "metadata": {},
   "outputs": [
    {
     "name": "stdout",
     "output_type": "stream",
     "text": [
      "Jennifer Aniston\n",
      "Courteney Cox\n",
      "Lisa Kudrow\n",
      "Matt LeBlanc\n",
      "Matthew Perry\n",
      "David Schwimmer\n"
     ]
    }
   ],
   "source": [
    "starrings = [\"Jennifer Aniston\", \"Courteney Cox\", \"Lisa Kudrow\", \"Matt LeBlanc\", \"Matthew Perry\", \"David Schwimmer\"]\n",
    "for starring in starrings:\n",
    " print (starring)"
   ]
  },
  {
   "cell_type": "code",
   "execution_count": 18,
   "metadata": {},
   "outputs": [
    {
     "name": "stdout",
     "output_type": "stream",
     "text": [
      "Rachel Green\n",
      "Monica Geller\n",
      "Phoebe Buffay\n",
      "Joey Tribbiani\n",
      "Chandler Bing\n",
      "Ross Geller\n"
     ]
    }
   ],
   "source": [
    "starrings = {\n",
    " \"Rachel Green\": \"Jennifer Aniston\",\n",
    " \"Monica Geller\": \"Courteney Cox\",\n",
    " \"Phoebe Buffay\": \"Lisa Kudrow\",\n",
    " \"Joey Tribbiani\": \"Matt LeBlanc\",\n",
    " \"Chandler Bing\": \"Matthew Perry\",\n",
    " \"Ross Geller\": \"David Schwimmer\"\n",
    "}\n",
    "for starring in starrings:\n",
    " print (starring)"
   ]
  },
  {
   "cell_type": "code",
   "execution_count": 20,
   "metadata": {},
   "outputs": [
    {
     "name": "stdout",
     "output_type": "stream",
     "text": [
      "Rachel Green\n",
      "Monica Geller\n",
      "Phoebe Buffay\n",
      "Joey Tribbiani\n",
      "Chandler Bing\n",
      "Ross Geller\n",
      "---\n",
      "Jennifer Aniston\n",
      "Courteney Cox\n",
      "Lisa Kudrow\n",
      "Matt LeBlanc\n",
      "Matthew Perry\n",
      "David Schwimmer\n"
     ]
    }
   ],
   "source": [
    "starrings = {\n",
    " \"Rachel Green\": \"Jennifer Aniston\",\n",
    " \"Monica Geller\": \"Courteney Cox\",\n",
    " \"Phoebe Buffay\": \"Lisa Kudrow\",\n",
    " \"Joey Tribbiani\": \"Matt LeBlanc\",\n",
    " \"Chandler Bing\": \"Matthew Perry\",\n",
    " \"Ross Geller\": \"David Schwimmer\"\n",
    "}\n",
    "for starring in starrings.keys():\n",
    " print (starring)\n",
    "print(\"---\")\n",
    "for starring in starrings.values():\n",
    " print (starring)"
   ]
  },
  {
   "cell_type": "code",
   "execution_count": 21,
   "metadata": {},
   "outputs": [
    {
     "name": "stdout",
     "output_type": "stream",
     "text": [
      "Rachel Green 由 Jennifer Aniston 演出\n",
      "Monica Geller 由 Courteney Cox 演出\n",
      "Phoebe Buffay 由 Lisa Kudrow 演出\n",
      "Joey Tribbiani 由 Matt LeBlanc 演出\n",
      "Chandler Bing 由 Matthew Perry 演出\n",
      "Ross Geller 由 David Schwimmer 演出\n"
     ]
    }
   ],
   "source": [
    "starrings = {\n",
    " \"Rachel Green\": \"Jennifer Aniston\",\n",
    " \"Monica Geller\": \"Courteney Cox\",\n",
    " \"Phoebe Buffay\": \"Lisa Kudrow\",\n",
    " \"Joey Tribbiani\": \"Matt LeBlanc\",\n",
    " \"Chandler Bing\": \"Matthew Perry\",\n",
    " \"Ross Geller\": \"David Schwimmer\"\n",
    "}\n",
    "for (key, value) in starrings.items():\n",
    " print (\"%s 由 %s 演出\" % (key, value))"
   ]
  },
  {
   "cell_type": "code",
   "execution_count": 22,
   "metadata": {},
   "outputs": [
    {
     "name": "stdout",
     "output_type": "stream",
     "text": [
      "Rachel Green 由 Jennifer Aniston 主演\n",
      "Monica Geller 由 Courteney Cox 主演\n",
      "Phoebe Buffay 由 Lisa Kudrow 主演\n",
      "Joey Tribbiani 由 Matt LeBlanc 主演\n",
      "Chandler Bing 由 Matthew Perry 主演\n",
      "Ross Geller 由 David Schwimmer 主演\n"
     ]
    }
   ],
   "source": [
    "starrings = [\n",
    " (\"Rachel Green\", \"Jennifer Aniston\"),\n",
    " (\"Monica Geller\", \"Courteney Cox\"),\n",
    " (\"Phoebe Buffay\", \"Lisa Kudrow\"),\n",
    " (\"Joey Tribbiani\", \"Matt LeBlanc\"),\n",
    " (\"Chandler Bing\", \"Matthew Perry\"),\n",
    " (\"Ross Geller\", \"David Schwimmer\")\n",
    "]\n",
    "for (character, star) in starrings:\n",
    " print (character + \" 由 \" + star + \" 主演\")"
   ]
  },
  {
   "cell_type": "code",
   "execution_count": 33,
   "metadata": {},
   "outputs": [
    {
     "name": "stdout",
     "output_type": "stream",
     "text": [
      "['Tail', 'Tail', 'Tail', 'Tail', 'Tail', 'Tail', 'Tail', 'Tail', 'Tail', 'Tail', 'Tail', 'Tail', 'Head', 'Tail', 'Head', 'Tail', 'Head']\n",
      "17\n"
     ]
    }
   ],
   "source": [
    "import random\n",
    "coin_flips = [] # 建立⼀個空的清單放置每⼀次投擲的結果\n",
    "coin = [\"Head\", \"Tail\"]\n",
    "while coin_flips.count(\"Head\") < 3:\n",
    " coin_flips.append(coin[random.randint(0, 1)])\n",
    "print (coin_flips)# 印出每次投擲的紀錄\n",
    "print (len(coin_flips)) # 總共投擲了幾次"
   ]
  },
  {
   "cell_type": "code",
   "execution_count": 45,
   "metadata": {},
   "outputs": [
    {
     "ename": "IndentationError",
     "evalue": "expected an indented block (<ipython-input-45-67c92d3ac683>, line 4)",
     "output_type": "error",
     "traceback": [
      "\u001b[1;36m  File \u001b[1;32m\"<ipython-input-45-67c92d3ac683>\"\u001b[1;36m, line \u001b[1;32m4\u001b[0m\n\u001b[1;33m    break\u001b[0m\n\u001b[1;37m        ^\u001b[0m\n\u001b[1;31mIndentationError\u001b[0m\u001b[1;31m:\u001b[0m expected an indented block\n"
     ]
    }
   ],
   "source": [
    "starrings = [\"Jennifer Aniston\", \"Courteney Cox\", \"Lisa Kudrow\", \"Matt LeBlanc\", \"Matthew Perry\", \"David Schwimmer\"]\n",
    "for starring in starrings:\n",
    " if starring == \"Matt LeBlanc\":\n",
    " break\n",
    " print (starring)"
   ]
  },
  {
   "cell_type": "code",
   "execution_count": 58,
   "metadata": {},
   "outputs": [
    {
     "ename": "SyntaxError",
     "evalue": "Missing parentheses in call to 'print'. Did you mean print(starring)? (<ipython-input-58-e1631ea96b8e>, line 4)",
     "output_type": "error",
     "traceback": [
      "\u001b[1;36m  File \u001b[1;32m\"<ipython-input-58-e1631ea96b8e>\"\u001b[1;36m, line \u001b[1;32m4\u001b[0m\n\u001b[1;33m    print starring\u001b[0m\n\u001b[1;37m                 ^\u001b[0m\n\u001b[1;31mSyntaxError\u001b[0m\u001b[1;31m:\u001b[0m Missing parentheses in call to 'print'. Did you mean print(starring)?\n"
     ]
    }
   ],
   "source": [
    "starrings = [\"Jennifer Aniston\", \"Courteney Cox\", \"Lisa Kudrow\", \"Matt LeBlanc\", \"Matthew Perry\", \"David Schwimmer\"]\n",
    "\n",
    "for starring in starrings:\n",
    "    print starring"
   ]
  },
  {
   "cell_type": "code",
   "execution_count": 62,
   "metadata": {},
   "outputs": [
    {
     "name": "stdout",
     "output_type": "stream",
     "text": [
      "Help on function my_squared in module __main__:\n",
      "\n",
      "my_squared(x)\n",
      "    將輸入的數字平⽅之後回傳\n",
      "\n"
     ]
    }
   ],
   "source": [
    "def my_squared(x):\n",
    " '將輸入的數字平⽅之後回傳'\n",
    " return x ** 2\n",
    "help(my_squared) # 查詢 my_squared() 函數"
   ]
  },
  {
   "cell_type": "code",
   "execution_count": 63,
   "metadata": {},
   "outputs": [
    {
     "name": "stdout",
     "output_type": "stream",
     "text": [
      "6\n",
      "6\n",
      "1 2 3\n"
     ]
    },
    {
     "ename": "TypeError",
     "evalue": "'a' is an invalid keyword argument for this function",
     "output_type": "error",
     "traceback": [
      "\u001b[1;31m---------------------------------------------------------------------------\u001b[0m",
      "\u001b[1;31mTypeError\u001b[0m                                 Traceback (most recent call last)",
      "\u001b[1;32m<ipython-input-63-470e4cdd6c81>\u001b[0m in \u001b[0;36m<module>\u001b[1;34m()\u001b[0m\n\u001b[0;32m      5\u001b[0m \u001b[0mprint\u001b[0m\u001b[1;33m(\u001b[0m\u001b[0mfunc\u001b[0m\u001b[1;33m(\u001b[0m\u001b[0mc\u001b[0m\u001b[1;33m=\u001b[0m\u001b[1;36m3\u001b[0m\u001b[1;33m,\u001b[0m\u001b[0mb\u001b[0m\u001b[1;33m=\u001b[0m\u001b[1;36m2\u001b[0m\u001b[1;33m,\u001b[0m\u001b[0ma\u001b[0m\u001b[1;33m=\u001b[0m\u001b[1;36m1\u001b[0m\u001b[1;33m)\u001b[0m\u001b[1;33m)\u001b[0m\u001b[1;33m\u001b[0m\u001b[0m\n\u001b[0;32m      6\u001b[0m \u001b[0mprint\u001b[0m\u001b[1;33m(\u001b[0m\u001b[1;36m1\u001b[0m\u001b[1;33m,\u001b[0m\u001b[1;36m2\u001b[0m\u001b[1;33m,\u001b[0m\u001b[1;36m3\u001b[0m\u001b[1;33m)\u001b[0m\u001b[1;33m\u001b[0m\u001b[0m\n\u001b[1;32m----> 7\u001b[1;33m \u001b[0mprint\u001b[0m\u001b[1;33m(\u001b[0m\u001b[0ma\u001b[0m\u001b[1;33m=\u001b[0m\u001b[1;36m1\u001b[0m\u001b[1;33m,\u001b[0m\u001b[0mb\u001b[0m\u001b[1;33m=\u001b[0m\u001b[1;36m2\u001b[0m\u001b[1;33m,\u001b[0m\u001b[0mc\u001b[0m\u001b[1;33m=\u001b[0m\u001b[1;36m3\u001b[0m\u001b[1;33m)\u001b[0m\u001b[1;33m\u001b[0m\u001b[0m\n\u001b[0m",
      "\u001b[1;31mTypeError\u001b[0m: 'a' is an invalid keyword argument for this function"
     ]
    }
   ],
   "source": [
    "def func(a,b,c):\n",
    " x = a + b + c\n",
    " return x\n",
    "print(func(1,2,3))\n",
    "print(func(c=3,b=2,a=1))\n",
    "print(1,2,3)\n",
    "print(a=1,b=2,c=3)"
   ]
  },
  {
   "cell_type": "code",
   "execution_count": 64,
   "metadata": {},
   "outputs": [
    {
     "ename": "IndentationError",
     "evalue": "expected an indented block (<ipython-input-64-22550eb9e401>, line 3)",
     "output_type": "error",
     "traceback": [
      "\u001b[1;36m  File \u001b[1;32m\"<ipython-input-64-22550eb9e401>\"\u001b[1;36m, line \u001b[1;32m3\u001b[0m\n\u001b[1;33m    return x\u001b[0m\n\u001b[1;37m         ^\u001b[0m\n\u001b[1;31mIndentationError\u001b[0m\u001b[1;31m:\u001b[0m expected an indented block\n"
     ]
    }
   ],
   "source": [
    "def func(x):\n",
    " if x < 10:\n",
    " return x\n",
    " else:\n",
    " return \"Over\"\n",
    "a = func(15)\n",
    "print(a)\n",
    "print(type(a))\n",
    "def func(a,b):\n",
    " n = a+b\n",
    " x = a*b\n",
    " return n, x\n",
    "num1, num2 = func(10,20)\n",
    "print(num1)\n",
    "print(num2)"
   ]
  },
  {
   "cell_type": "code",
   "execution_count": 70,
   "metadata": {},
   "outputs": [
    {
     "ename": "SyntaxError",
     "evalue": "invalid syntax (<ipython-input-70-424ca56378fe>, line 5)",
     "output_type": "error",
     "traceback": [
      "\u001b[1;36m  File \u001b[1;32m\"<ipython-input-70-424ca56378fe>\"\u001b[1;36m, line \u001b[1;32m5\u001b[0m\n\u001b[1;33m    print circle_circum(3)\u001b[0m\n\u001b[1;37m                      ^\u001b[0m\n\u001b[1;31mSyntaxError\u001b[0m\u001b[1;31m:\u001b[0m invalid syntax\n"
     ]
    }
   ],
   "source": [
    "import math # 要使⽤圓周率 pi 得引入套件 math\n",
    "def circle_circum(r):\n",
    " '輸入半徑長度可以計算出圓周長'\n",
    " return 2 * math.pi * r\n",
    "print circle_circum(3)"
   ]
  },
  {
   "cell_type": "code",
   "execution_count": 71,
   "metadata": {},
   "outputs": [
    {
     "ename": "IndentationError",
     "evalue": "expected an indented block (<ipython-input-71-2dcb846abeba>, line 8)",
     "output_type": "error",
     "traceback": [
      "\u001b[1;36m  File \u001b[1;32m\"<ipython-input-71-2dcb846abeba>\"\u001b[1;36m, line \u001b[1;32m8\u001b[0m\n\u001b[1;33m    return math.pi * r ** 2\u001b[0m\n\u001b[1;37m         ^\u001b[0m\n\u001b[1;31mIndentationError\u001b[0m\u001b[1;31m:\u001b[0m expected an indented block\n"
     ]
    }
   ],
   "source": [
    "def circle_calculator(r, is_area = True):\n",
    " '''\n",
    " 輸入半徑長度可以計算出圓⾯積與圓周長\n",
    " 利⽤參數 is_area 決定要回傳圓⾯積或圓周長\n",
    " 預設回傳圓⾯積\n",
    " '''\n",
    " if is_area == True:\n",
    " return math.pi * r ** 2\n",
    " else:\n",
    " return 2 * math.pi * r\n",
    "print circle_calculator(3)\n",
    "print circle_calculator(3, is_area = False)\n"
   ]
  },
  {
   "cell_type": "code",
   "execution_count": 72,
   "metadata": {},
   "outputs": [
    {
     "ename": "IndentationError",
     "evalue": "expected an indented block (<ipython-input-72-09e429e0a2b6>, line 9)",
     "output_type": "error",
     "traceback": [
      "\u001b[1;36m  File \u001b[1;32m\"<ipython-input-72-09e429e0a2b6>\"\u001b[1;36m, line \u001b[1;32m9\u001b[0m\n\u001b[1;33m    return math.pi * r ** 2\u001b[0m\n\u001b[1;37m         ^\u001b[0m\n\u001b[1;31mIndentationError\u001b[0m\u001b[1;31m:\u001b[0m expected an indented block\n"
     ]
    }
   ],
   "source": [
    "import math # 要使⽤圓周率 pi 得引入套件 math\n",
    "def circle_calculator(r, is_area): # 沒有指定預設值\n",
    " '''\n",
    " 輸入半徑長度可以計算出圓⾯積與圓周長\n",
    " 利⽤參數 is_area 決定要回傳圓⾯積或圓周長\n",
    " 預設回傳圓⾯積\n",
    " '''\n",
    " if is_area == True:\n",
    " return math.pi * r ** 2\n",
    " else:\n",
    " return 2 * math.pi * r\n",
    "print circle_calculator(3) # 沒有指定 is_area 參數的值"
   ]
  },
  {
   "cell_type": "code",
   "execution_count": 73,
   "metadata": {},
   "outputs": [
    {
     "ename": "SyntaxError",
     "evalue": "invalid syntax (<ipython-input-73-27538ea4ad19>, line 9)",
     "output_type": "error",
     "traceback": [
      "\u001b[1;36m  File \u001b[1;32m\"<ipython-input-73-27538ea4ad19>\"\u001b[1;36m, line \u001b[1;32m9\u001b[0m\n\u001b[1;33m    print circle_calculator(3)\u001b[0m\n\u001b[1;37m                          ^\u001b[0m\n\u001b[1;31mSyntaxError\u001b[0m\u001b[1;31m:\u001b[0m invalid syntax\n"
     ]
    }
   ],
   "source": [
    "def circle_calculator(r):\n",
    " '''\n",
    " 輸入半徑長度可以計算出圓⾯積與圓周長\n",
    " 將圓⾯積與圓周長⼀起回傳\n",
    " '''\n",
    " area = math.pi * r ** 2\n",
    " circum = 2 * math.pi * r\n",
    " return area, circum\n",
    "print circle_calculator(3)"
   ]
  },
  {
   "cell_type": "code",
   "execution_count": 74,
   "metadata": {},
   "outputs": [
    {
     "ename": "IndentationError",
     "evalue": "expected an indented block (<ipython-input-74-6f1186677f9d>, line 5)",
     "output_type": "error",
     "traceback": [
      "\u001b[1;36m  File \u001b[1;32m\"<ipython-input-74-6f1186677f9d>\"\u001b[1;36m, line \u001b[1;32m5\u001b[0m\n\u001b[1;33m    cnt += 1\u001b[0m\n\u001b[1;37m      ^\u001b[0m\n\u001b[1;31mIndentationError\u001b[0m\u001b[1;31m:\u001b[0m expected an indented block\n"
     ]
    }
   ],
   "source": [
    "def my_len(x):\n",
    " '計算輸入 list 中有幾個元素'\n",
    " cnt = 0\n",
    " for i in x:\n",
    " cnt += 1\n",
    " return cnt\n",
    "num_list = range(1, 11)\n",
    "my_len(num_list) # 計算 num_list 中有幾個數字"
   ]
  },
  {
   "cell_type": "code",
   "execution_count": 76,
   "metadata": {},
   "outputs": [
    {
     "ename": "IndentationError",
     "evalue": "expected an indented block (<ipython-input-76-4670276eb294>, line 5)",
     "output_type": "error",
     "traceback": [
      "\u001b[1;36m  File \u001b[1;32m\"<ipython-input-76-4670276eb294>\"\u001b[1;36m, line \u001b[1;32m5\u001b[0m\n\u001b[1;33m    summation += i\u001b[0m\n\u001b[1;37m            ^\u001b[0m\n\u001b[1;31mIndentationError\u001b[0m\u001b[1;31m:\u001b[0m expected an indented block\n"
     ]
    }
   ],
   "source": [
    "def my_sum(x):\n",
    " '計算輸入 list 中的數字加總'\n",
    " summation = 0\n",
    " for i in x:\n",
    " summation += i\n",
    " return (summation)\n",
    "num_list = range(1, 11)\n",
    "my_sum(num_list) # 計算 num_list 中數字的加總"
   ]
  },
  {
   "cell_type": "code",
   "execution_count": 77,
   "metadata": {},
   "outputs": [
    {
     "ename": "IndentationError",
     "evalue": "expected an indented block (<ipython-input-77-f5d19dea9f35>, line 6)",
     "output_type": "error",
     "traceback": [
      "\u001b[1;36m  File \u001b[1;32m\"<ipython-input-77-f5d19dea9f35>\"\u001b[1;36m, line \u001b[1;32m6\u001b[0m\n\u001b[1;33m    cnt += 1\u001b[0m\n\u001b[1;37m      ^\u001b[0m\n\u001b[1;31mIndentationError\u001b[0m\u001b[1;31m:\u001b[0m expected an indented block\n"
     ]
    }
   ],
   "source": [
    "def my_mean(x):\n",
    " '計算輸入 list 中的數字平均數'\n",
    " cnt = 0\n",
    " summation = 0.0\n",
    " for i in x:\n",
    " cnt += 1\n",
    " summation += i\n",
    " return (summation / cnt)\n",
    "num_list = range(1, 11)\n",
    "my_mean(num_list) # 計算 num_list 中數字的平均數"
   ]
  },
  {
   "cell_type": "code",
   "execution_count": 78,
   "metadata": {},
   "outputs": [
    {
     "ename": "SyntaxError",
     "evalue": "Missing parentheses in call to 'print'. Did you mean print(ans # 在函數外沒有 ans)? (<ipython-input-78-51ef94cc98d9>, line 4)",
     "output_type": "error",
     "traceback": [
      "\u001b[1;36m  File \u001b[1;32m\"<ipython-input-78-51ef94cc98d9>\"\u001b[1;36m, line \u001b[1;32m4\u001b[0m\n\u001b[1;33m    print ans # 在函數外沒有 ans\u001b[0m\n\u001b[1;37m            ^\u001b[0m\n\u001b[1;31mSyntaxError\u001b[0m\u001b[1;31m:\u001b[0m Missing parentheses in call to 'print'. Did you mean print(ans # 在函數外沒有 ans)?\n"
     ]
    }
   ],
   "source": [
    "def my_squared(x):\n",
    " ans = x ** 2 # ans 是⼀個區域變數\n",
    " return ans\n",
    "print ans # 在函數外沒有 ans"
   ]
  },
  {
   "cell_type": "code",
   "execution_count": 80,
   "metadata": {},
   "outputs": [
    {
     "name": "stdout",
     "output_type": "stream",
     "text": [
      "9\n"
     ]
    }
   ],
   "source": [
    "my_squared = lambda x : x ** 2\n",
    "print (my_squared(3))"
   ]
  },
  {
   "cell_type": "code",
   "execution_count": 82,
   "metadata": {},
   "outputs": [
    {
     "name": "stdout",
     "output_type": "stream",
     "text": [
      "<filter object at 0x000001CE153AA9E8>\n"
     ]
    }
   ],
   "source": [
    "my_list = range(1, 11)\n",
    "print (filter(lambda x : x % 2 == 0, my_list))"
   ]
  },
  {
   "cell_type": "code",
   "execution_count": 83,
   "metadata": {},
   "outputs": [
    {
     "name": "stdout",
     "output_type": "stream",
     "text": [
      "<map object at 0x000001CE153AA3C8>\n"
     ]
    }
   ],
   "source": [
    "my_list = range(1, 11)\n",
    "print (map(lambda x : x ** 2, my_list))"
   ]
  },
  {
   "cell_type": "code",
   "execution_count": 84,
   "metadata": {},
   "outputs": [
    {
     "ename": "NameError",
     "evalue": "name 'reduce' is not defined",
     "output_type": "error",
     "traceback": [
      "\u001b[1;31m---------------------------------------------------------------------------\u001b[0m",
      "\u001b[1;31mNameError\u001b[0m                                 Traceback (most recent call last)",
      "\u001b[1;32m<ipython-input-84-069fa5304216>\u001b[0m in \u001b[0;36m<module>\u001b[1;34m()\u001b[0m\n\u001b[0;32m      1\u001b[0m \u001b[0mmy_list\u001b[0m \u001b[1;33m=\u001b[0m \u001b[0mrange\u001b[0m\u001b[1;33m(\u001b[0m\u001b[1;36m1\u001b[0m\u001b[1;33m,\u001b[0m \u001b[1;36m11\u001b[0m\u001b[1;33m)\u001b[0m\u001b[1;33m\u001b[0m\u001b[0m\n\u001b[1;32m----> 2\u001b[1;33m \u001b[0mprint\u001b[0m \u001b[1;33m(\u001b[0m\u001b[0mreduce\u001b[0m\u001b[1;33m(\u001b[0m\u001b[1;32mlambda\u001b[0m \u001b[0mx\u001b[0m\u001b[1;33m,\u001b[0m \u001b[0my\u001b[0m \u001b[1;33m:\u001b[0m \u001b[0mx\u001b[0m \u001b[1;33m+\u001b[0m \u001b[0my\u001b[0m\u001b[1;33m,\u001b[0m \u001b[0mmy_list\u001b[0m\u001b[1;33m)\u001b[0m\u001b[1;33m)\u001b[0m\u001b[1;33m\u001b[0m\u001b[0m\n\u001b[0m",
      "\u001b[1;31mNameError\u001b[0m: name 'reduce' is not defined"
     ]
    }
   ],
   "source": [
    "my_list = range(1, 11)\n",
    "print (reduce(lambda x, y : x + y, my_list))"
   ]
  },
  {
   "cell_type": "code",
   "execution_count": 85,
   "metadata": {},
   "outputs": [
    {
     "ename": "IndentationError",
     "evalue": "expected an indented block (<ipython-input-85-75753d6f749c>, line 4)",
     "output_type": "error",
     "traceback": [
      "\u001b[1;36m  File \u001b[1;32m\"<ipython-input-85-75753d6f749c>\"\u001b[1;36m, line \u001b[1;32m4\u001b[0m\n\u001b[1;33m    '計算輸入 list 中的數字加總'\u001b[0m\n\u001b[1;37m                     ^\u001b[0m\n\u001b[1;31mIndentationError\u001b[0m\u001b[1;31m:\u001b[0m expected an indented block\n"
     ]
    }
   ],
   "source": [
    "def my_mean(x):\n",
    " '計算平均數'\n",
    " def my_sum(x):\n",
    " '計算輸入 list 中的數字加總'\n",
    " summation = 0.0\n",
    " for i in x:\n",
    " summation += i\n",
    " return summation\n",
    " def my_len(x):\n",
    " '計算輸入 list 中有幾個元素'\n",
    " cnt = 0\n",
    " for i in x:\n",
    " cnt += 1\n",
    " return cnt\n",
    " return my_sum(x) / my_len(x)\n",
    "# 呼叫⾃訂函數\n",
    "my_list = range(1, 11)\n",
    "print my_mean(my_list)"
   ]
  },
  {
   "cell_type": "code",
   "execution_count": 86,
   "metadata": {},
   "outputs": [
    {
     "ename": "IndentationError",
     "evalue": "expected an indented block (<ipython-input-86-ea6bde4c2d3a>, line 4)",
     "output_type": "error",
     "traceback": [
      "\u001b[1;36m  File \u001b[1;32m\"<ipython-input-86-ea6bde4c2d3a>\"\u001b[1;36m, line \u001b[1;32m4\u001b[0m\n\u001b[1;33m    return x ** 2\u001b[0m\n\u001b[1;37m         ^\u001b[0m\n\u001b[1;31mIndentationError\u001b[0m\u001b[1;31m:\u001b[0m expected an indented block\n"
     ]
    }
   ],
   "source": [
    "def my_squared(x):\n",
    " '計算平⽅數且具有錯誤處理的函數'\n",
    " try:\n",
    " return x ** 2\n",
    " except:\n",
    " print(\"請輸入數值。\")\n",
    "my_squared(\"3\")"
   ]
  },
  {
   "cell_type": "code",
   "execution_count": 87,
   "metadata": {},
   "outputs": [
    {
     "ename": "IndentationError",
     "evalue": "expected an indented block (<ipython-input-87-7071576a06f2>, line 3)",
     "output_type": "error",
     "traceback": [
      "\u001b[1;36m  File \u001b[1;32m\"<ipython-input-87-7071576a06f2>\"\u001b[1;36m, line \u001b[1;32m3\u001b[0m\n\u001b[1;33m    return x / y\u001b[0m\n\u001b[1;37m         ^\u001b[0m\n\u001b[1;31mIndentationError\u001b[0m\u001b[1;31m:\u001b[0m expected an indented block\n"
     ]
    }
   ],
   "source": [
    "def divide(x, y):\n",
    " try:\n",
    " return x / y\n",
    " except TypeError:\n",
    " print(\"請輸入數值。\")\n",
    " except ZeroDivisionError:\n",
    " print(\"除數不可以為零。\")\n",
    " except:\n",
    " print(\"其他的錯誤\")\n",
    "print divide(\"9\", 3)\n",
    "print divide(9, 0)"
   ]
  },
  {
   "cell_type": "code",
   "execution_count": 88,
   "metadata": {},
   "outputs": [
    {
     "ename": "SyntaxError",
     "evalue": "invalid syntax (<ipython-input-88-f0cda145bfa0>, line 1)",
     "output_type": "error",
     "traceback": [
      "\u001b[1;36m  File \u001b[1;32m\"<ipython-input-88-f0cda145bfa0>\"\u001b[1;36m, line \u001b[1;32m1\u001b[0m\n\u001b[1;33m    $ cd ~/intro_2_py_ds\u001b[0m\n\u001b[1;37m    ^\u001b[0m\n\u001b[1;31mSyntaxError\u001b[0m\u001b[1;31m:\u001b[0m invalid syntax\n"
     ]
    }
   ],
   "source": [
    "$ cd ~/intro_2_py_ds\n",
    "$ touch stand_alone.py"
   ]
  },
  {
   "cell_type": "code",
   "execution_count": 90,
   "metadata": {},
   "outputs": [
    {
     "ename": "SyntaxError",
     "evalue": "invalid syntax (<ipython-input-90-5b3ebfb3b9e7>, line 10)",
     "output_type": "error",
     "traceback": [
      "\u001b[1;36m  File \u001b[1;32m\"<ipython-input-90-5b3ebfb3b9e7>\"\u001b[1;36m, line \u001b[1;32m10\u001b[0m\n\u001b[1;33m    print \"圓⾯積：\", circle_calculator(radius)[0], \"\\n\", \"圓周長：\", circle_calculator(rad\u001b[0m\n\u001b[1;37m               ^\u001b[0m\n\u001b[1;31mSyntaxError\u001b[0m\u001b[1;31m:\u001b[0m invalid syntax\n"
     ]
    }
   ],
   "source": [
    "# coding=utf-8\n",
    "import sys\n",
    "import math\n",
    "def circle_calculator(r):\n",
    " '計算圓形⾯積與周長'\n",
    " area = math.pi * r**2\n",
    " circum = 2 * math.pi * r\n",
    " return area, circum\n",
    "radius = float(sys.argv[1])\n",
    "print \"圓⾯積：\", circle_calculator(radius)[0], \"\\n\", \"圓周長：\", circle_calculator(rad"
   ]
  },
  {
   "cell_type": "code",
   "execution_count": 91,
   "metadata": {},
   "outputs": [],
   "source": [
    "# coding=utf-8\n",
    "import math\n",
    "def circle_area(r):\n",
    " '計算圓形⾯積'\n",
    " area = math.pi * r**2\n",
    " return area\n",
    "def circle_circum(r):\n",
    " '計算圓形周長'\n",
    " circum = 2 * math.pi * r\n",
    " return circum\n"
   ]
  },
  {
   "cell_type": "code",
   "execution_count": 92,
   "metadata": {},
   "outputs": [
    {
     "ename": "SyntaxError",
     "evalue": "invalid syntax (<ipython-input-92-d250c5d0222d>, line 5)",
     "output_type": "error",
     "traceback": [
      "\u001b[1;36m  File \u001b[1;32m\"<ipython-input-92-d250c5d0222d>\"\u001b[1;36m, line \u001b[1;32m5\u001b[0m\n\u001b[1;33m    print \"圓⾯積：\", circle_area(radius)\u001b[0m\n\u001b[1;37m               ^\u001b[0m\n\u001b[1;31mSyntaxError\u001b[0m\u001b[1;31m:\u001b[0m invalid syntax\n"
     ]
    }
   ],
   "source": [
    "# coding=utf-8\n",
    "import sys\n",
    "from circle_calculator import circle_area\n",
    "radius = float(sys.argv[1])\n",
    "print \"圓⾯積：\", circle_area(radius)"
   ]
  },
  {
   "cell_type": "code",
   "execution_count": 93,
   "metadata": {},
   "outputs": [
    {
     "ename": "SyntaxError",
     "evalue": "invalid syntax (<ipython-input-93-d2d0051f1135>, line 3)",
     "output_type": "error",
     "traceback": [
      "\u001b[1;36m  File \u001b[1;32m\"<ipython-input-93-d2d0051f1135>\"\u001b[1;36m, line \u001b[1;32m3\u001b[0m\n\u001b[1;33m    print \"投擲骰⼦：\", dice.roll_dice()\u001b[0m\n\u001b[1;37m                ^\u001b[0m\n\u001b[1;31mSyntaxError\u001b[0m\u001b[1;31m:\u001b[0m invalid syntax\n"
     ]
    }
   ],
   "source": [
    "# coding=utf-8\n",
    "from casino import dice, poker\n",
    "print \"投擲骰⼦：\", dice.roll_dice()\n",
    "print \"發撲克牌：\", poker.card_deal()"
   ]
  },
  {
   "cell_type": "code",
   "execution_count": null,
   "metadata": {},
   "outputs": [],
   "source": []
  }
 ],
 "metadata": {
  "kernelspec": {
   "display_name": "Python 3",
   "language": "python",
   "name": "python3"
  },
  "language_info": {
   "codemirror_mode": {
    "name": "ipython",
    "version": 3
   },
   "file_extension": ".py",
   "mimetype": "text/x-python",
   "name": "python",
   "nbconvert_exporter": "python",
   "pygments_lexer": "ipython3",
   "version": "3.6.5"
  }
 },
 "nbformat": 4,
 "nbformat_minor": 2
}
